{
 "cells": [
  {
   "cell_type": "markdown",
   "metadata": {},
   "source": [
    "## Prediction vs. Classification\n",
    "\n",
    "## Multi-Step Time Series\n",
    "\n",
    "\n",
    "[Strategies for Multi-Step Time Series Forecasting](https://machinelearningmastery.com/multi-step-time-series-forecasting/)"
   ]
  },
  {
   "cell_type": "markdown",
   "metadata": {},
   "source": [
    "## Problem Description \n",
    "\n",
    "\n",
    "[link](https://machinelearningmastery.com/how-to-develop-convolutional-neural-networks-for-multi-step-time-series-forecasting/)\n",
    "\n",
    "The ‘Household Power Consumption‘ dataset is a multivariate time series dataset that describes the electricity consumption for a single household over four years.   \n",
    "\n",
    "The data was collected between December 2006 and November 2010 and observations of power consumption within the household were collected every minute.\n",
    "\n",
    "It is a multivariate series comprised of seven variables (besides the date and time); they are:\n",
    "\n",
    "global_active_power: The total active power consumed by the household (kilowatts).    \n",
    "global_reactive_power: The total reactive power consumed by the household (kilowatts).     \n",
    "voltage: Average voltage (volts).     \n",
    "global_intensity: Average current intensity (amps).      \n",
    "sub_metering_1: Active energy for kitchen (watt-hours of active energy).       \n",
    "sub_metering_2: Active energy for laundry (watt-hours of active energy).         \n",
    "sub_metering_3: Active energy for climate control systems (watt-hours of active energy).       \n",
    "\n",
    "A fourth sub-metering variable can be created by subtracting the sum of three defined sub-metering variables from the total active energy as follows:         \n",
    "\n",
    "sub_metering_remainder = (global_active_power * 1000 / 60) - (sub_metering_1 + sub_metering_2 + sub_metering_3)"
   ]
  },
  {
   "cell_type": "markdown",
   "metadata": {},
   "source": [
    "## The Question to solve: \n",
    "\n",
    "**Given recent power consumption, what is the expected power consumption for the week ahead?**"
   ]
  },
  {
   "cell_type": "code",
   "execution_count": 1,
   "metadata": {},
   "outputs": [
    {
     "name": "stderr",
     "output_type": "stream",
     "text": [
      "/opt/conda/lib/python3.5/site-packages/h5py/__init__.py:36: FutureWarning: Conversion of the second argument of issubdtype from `float` to `np.floating` is deprecated. In future, it will be treated as `np.float64 == np.dtype(float).type`.\n",
      "  from ._conv import register_converters as _register_converters\n",
      "Using TensorFlow backend.\n"
     ]
    }
   ],
   "source": [
    "# univariate multi-step cnn\n",
    "from math import sqrt\n",
    "from numpy import split\n",
    "from numpy import array\n",
    "from pandas import read_csv\n",
    "from sklearn.metrics import mean_squared_error\n",
    "from matplotlib import pyplot\n",
    "from keras.models import Sequential\n",
    "from keras.layers import Dense\n",
    "from keras.layers import Flatten\n",
    "from keras.layers.convolutional import Conv1D\n",
    "from keras.layers.convolutional import MaxPooling1D"
   ]
  },
  {
   "cell_type": "code",
   "execution_count": 2,
   "metadata": {},
   "outputs": [],
   "source": [
    "# load all data\n",
    "import pandas as pd\n",
    "import numpy as np\n",
    "dataset = pd.read_csv('~/DATA/household_power_consumption.txt', sep=';', header=0, low_memory=False, infer_datetime_format=True, parse_dates={'datetime':[0,1]}, index_col=['datetime'])"
   ]
  },
  {
   "cell_type": "code",
   "execution_count": 3,
   "metadata": {},
   "outputs": [
    {
     "data": {
      "text/plain": [
       "2075259"
      ]
     },
     "execution_count": 3,
     "metadata": {},
     "output_type": "execute_result"
    }
   ],
   "source": [
    "len(dataset)"
   ]
  },
  {
   "cell_type": "code",
   "execution_count": 4,
   "metadata": {},
   "outputs": [
    {
     "data": {
      "text/html": [
       "<div>\n",
       "<style scoped>\n",
       "    .dataframe tbody tr th:only-of-type {\n",
       "        vertical-align: middle;\n",
       "    }\n",
       "\n",
       "    .dataframe tbody tr th {\n",
       "        vertical-align: top;\n",
       "    }\n",
       "\n",
       "    .dataframe thead th {\n",
       "        text-align: right;\n",
       "    }\n",
       "</style>\n",
       "<table border=\"1\" class=\"dataframe\">\n",
       "  <thead>\n",
       "    <tr style=\"text-align: right;\">\n",
       "      <th></th>\n",
       "      <th>Global_active_power</th>\n",
       "      <th>Global_reactive_power</th>\n",
       "      <th>Voltage</th>\n",
       "      <th>Global_intensity</th>\n",
       "      <th>Sub_metering_1</th>\n",
       "      <th>Sub_metering_2</th>\n",
       "      <th>Sub_metering_3</th>\n",
       "    </tr>\n",
       "    <tr>\n",
       "      <th>datetime</th>\n",
       "      <th></th>\n",
       "      <th></th>\n",
       "      <th></th>\n",
       "      <th></th>\n",
       "      <th></th>\n",
       "      <th></th>\n",
       "      <th></th>\n",
       "    </tr>\n",
       "  </thead>\n",
       "  <tbody>\n",
       "    <tr>\n",
       "      <th>2006-12-16 17:24:00</th>\n",
       "      <td>4.216</td>\n",
       "      <td>0.418</td>\n",
       "      <td>234.840</td>\n",
       "      <td>18.400</td>\n",
       "      <td>0.000</td>\n",
       "      <td>1.000</td>\n",
       "      <td>17.0</td>\n",
       "    </tr>\n",
       "    <tr>\n",
       "      <th>2006-12-16 17:25:00</th>\n",
       "      <td>5.360</td>\n",
       "      <td>0.436</td>\n",
       "      <td>233.630</td>\n",
       "      <td>23.000</td>\n",
       "      <td>0.000</td>\n",
       "      <td>1.000</td>\n",
       "      <td>16.0</td>\n",
       "    </tr>\n",
       "    <tr>\n",
       "      <th>2006-12-16 17:26:00</th>\n",
       "      <td>5.374</td>\n",
       "      <td>0.498</td>\n",
       "      <td>233.290</td>\n",
       "      <td>23.000</td>\n",
       "      <td>0.000</td>\n",
       "      <td>2.000</td>\n",
       "      <td>17.0</td>\n",
       "    </tr>\n",
       "    <tr>\n",
       "      <th>2006-12-16 17:27:00</th>\n",
       "      <td>5.388</td>\n",
       "      <td>0.502</td>\n",
       "      <td>233.740</td>\n",
       "      <td>23.000</td>\n",
       "      <td>0.000</td>\n",
       "      <td>1.000</td>\n",
       "      <td>17.0</td>\n",
       "    </tr>\n",
       "    <tr>\n",
       "      <th>2006-12-16 17:28:00</th>\n",
       "      <td>3.666</td>\n",
       "      <td>0.528</td>\n",
       "      <td>235.680</td>\n",
       "      <td>15.800</td>\n",
       "      <td>0.000</td>\n",
       "      <td>1.000</td>\n",
       "      <td>17.0</td>\n",
       "    </tr>\n",
       "    <tr>\n",
       "      <th>2006-12-16 17:29:00</th>\n",
       "      <td>3.520</td>\n",
       "      <td>0.522</td>\n",
       "      <td>235.020</td>\n",
       "      <td>15.000</td>\n",
       "      <td>0.000</td>\n",
       "      <td>2.000</td>\n",
       "      <td>17.0</td>\n",
       "    </tr>\n",
       "    <tr>\n",
       "      <th>2006-12-16 17:30:00</th>\n",
       "      <td>3.702</td>\n",
       "      <td>0.520</td>\n",
       "      <td>235.090</td>\n",
       "      <td>15.800</td>\n",
       "      <td>0.000</td>\n",
       "      <td>1.000</td>\n",
       "      <td>17.0</td>\n",
       "    </tr>\n",
       "    <tr>\n",
       "      <th>2006-12-16 17:31:00</th>\n",
       "      <td>3.700</td>\n",
       "      <td>0.520</td>\n",
       "      <td>235.220</td>\n",
       "      <td>15.800</td>\n",
       "      <td>0.000</td>\n",
       "      <td>1.000</td>\n",
       "      <td>17.0</td>\n",
       "    </tr>\n",
       "    <tr>\n",
       "      <th>2006-12-16 17:32:00</th>\n",
       "      <td>3.668</td>\n",
       "      <td>0.510</td>\n",
       "      <td>233.990</td>\n",
       "      <td>15.800</td>\n",
       "      <td>0.000</td>\n",
       "      <td>1.000</td>\n",
       "      <td>17.0</td>\n",
       "    </tr>\n",
       "    <tr>\n",
       "      <th>2006-12-16 17:33:00</th>\n",
       "      <td>3.662</td>\n",
       "      <td>0.510</td>\n",
       "      <td>233.860</td>\n",
       "      <td>15.800</td>\n",
       "      <td>0.000</td>\n",
       "      <td>2.000</td>\n",
       "      <td>16.0</td>\n",
       "    </tr>\n",
       "  </tbody>\n",
       "</table>\n",
       "</div>"
      ],
      "text/plain": [
       "                    Global_active_power Global_reactive_power  Voltage  \\\n",
       "datetime                                                                 \n",
       "2006-12-16 17:24:00               4.216                 0.418  234.840   \n",
       "2006-12-16 17:25:00               5.360                 0.436  233.630   \n",
       "2006-12-16 17:26:00               5.374                 0.498  233.290   \n",
       "2006-12-16 17:27:00               5.388                 0.502  233.740   \n",
       "2006-12-16 17:28:00               3.666                 0.528  235.680   \n",
       "2006-12-16 17:29:00               3.520                 0.522  235.020   \n",
       "2006-12-16 17:30:00               3.702                 0.520  235.090   \n",
       "2006-12-16 17:31:00               3.700                 0.520  235.220   \n",
       "2006-12-16 17:32:00               3.668                 0.510  233.990   \n",
       "2006-12-16 17:33:00               3.662                 0.510  233.860   \n",
       "\n",
       "                    Global_intensity Sub_metering_1 Sub_metering_2  \\\n",
       "datetime                                                             \n",
       "2006-12-16 17:24:00           18.400          0.000          1.000   \n",
       "2006-12-16 17:25:00           23.000          0.000          1.000   \n",
       "2006-12-16 17:26:00           23.000          0.000          2.000   \n",
       "2006-12-16 17:27:00           23.000          0.000          1.000   \n",
       "2006-12-16 17:28:00           15.800          0.000          1.000   \n",
       "2006-12-16 17:29:00           15.000          0.000          2.000   \n",
       "2006-12-16 17:30:00           15.800          0.000          1.000   \n",
       "2006-12-16 17:31:00           15.800          0.000          1.000   \n",
       "2006-12-16 17:32:00           15.800          0.000          1.000   \n",
       "2006-12-16 17:33:00           15.800          0.000          2.000   \n",
       "\n",
       "                     Sub_metering_3  \n",
       "datetime                             \n",
       "2006-12-16 17:24:00            17.0  \n",
       "2006-12-16 17:25:00            16.0  \n",
       "2006-12-16 17:26:00            17.0  \n",
       "2006-12-16 17:27:00            17.0  \n",
       "2006-12-16 17:28:00            17.0  \n",
       "2006-12-16 17:29:00            17.0  \n",
       "2006-12-16 17:30:00            17.0  \n",
       "2006-12-16 17:31:00            17.0  \n",
       "2006-12-16 17:32:00            17.0  \n",
       "2006-12-16 17:33:00            16.0  "
      ]
     },
     "execution_count": 4,
     "metadata": {},
     "output_type": "execute_result"
    }
   ],
   "source": [
    "dataset.head(10)"
   ]
  },
  {
   "cell_type": "code",
   "execution_count": 5,
   "metadata": {},
   "outputs": [],
   "source": [
    "# mark all missing values\n",
    "dataset.replace('?', 'nan', inplace=True)\n",
    "# make dataset numeric\n",
    "dataset = dataset.astype('float32')"
   ]
  },
  {
   "cell_type": "code",
   "execution_count": 6,
   "metadata": {},
   "outputs": [
    {
     "data": {
      "text/plain": [
       "Global_active_power      25979\n",
       "Global_reactive_power    25979\n",
       "Voltage                  25979\n",
       "Global_intensity         25979\n",
       "Sub_metering_1           25979\n",
       "Sub_metering_2           25979\n",
       "Sub_metering_3           25979\n",
       "dtype: int64"
      ]
     },
     "execution_count": 6,
     "metadata": {},
     "output_type": "execute_result"
    }
   ],
   "source": [
    "dataset.isna().sum()"
   ]
  },
  {
   "cell_type": "code",
   "execution_count": 7,
   "metadata": {},
   "outputs": [],
   "source": [
    "\n",
    "# fill missing values with a value at the same time one day ago\n",
    "def fill_missing(values):\n",
    "    one_day = 60 * 24\n",
    "    for row in range(values.shape[0]):\n",
    "        for col in range(values.shape[1]):\n",
    "            if np.isnan(values[row, col]):\n",
    "                values[row, col] = values[row - one_day, col]"
   ]
  },
  {
   "cell_type": "code",
   "execution_count": 8,
   "metadata": {},
   "outputs": [],
   "source": [
    "# fill missing\n",
    "fill_missing(dataset.values)"
   ]
  },
  {
   "cell_type": "code",
   "execution_count": 9,
   "metadata": {},
   "outputs": [],
   "source": [
    "# add a column for the remainder of sub metering\n",
    "values = dataset.values\n",
    "dataset['sub_metering_4'] = (values[:,0] * 1000 / 60) - (values[:,4] + values[:,5] + values[:,6])"
   ]
  },
  {
   "cell_type": "code",
   "execution_count": 10,
   "metadata": {},
   "outputs": [],
   "source": [
    "# save updated dataset\n",
    "#dataset.to_csv('household_power_consumption_sub_4.csv')"
   ]
  },
  {
   "cell_type": "code",
   "execution_count": 11,
   "metadata": {},
   "outputs": [
    {
     "name": "stdout",
     "output_type": "stream",
     "text": [
      "(1442, 8)\n",
      "            Global_active_power  Global_reactive_power    Voltage  \\\n",
      "datetime                                                            \n",
      "2006-12-16             1209.176                 34.922   93552.53   \n",
      "2006-12-17             3390.460                226.006  345725.32   \n",
      "2006-12-18             2203.826                161.792  347373.64   \n",
      "2006-12-19             1666.194                150.942  348479.01   \n",
      "2006-12-20             2225.748                160.998  348923.61   \n",
      "\n",
      "            Global_intensity  Sub_metering_1  Sub_metering_2  Sub_metering_3  \\\n",
      "datetime                                                                       \n",
      "2006-12-16            5180.8             0.0           546.0          4926.0   \n",
      "2006-12-17           14398.6          2033.0          4187.0         13341.0   \n",
      "2006-12-18            9247.2          1063.0          2621.0         14018.0   \n",
      "2006-12-19            7094.0           839.0          7602.0          6197.0   \n",
      "2006-12-20            9313.0             0.0          2648.0         14063.0   \n",
      "\n",
      "            sub_metering_4  \n",
      "datetime                    \n",
      "2006-12-16    14680.933319  \n",
      "2006-12-17    36946.666732  \n",
      "2006-12-18    19028.433281  \n",
      "2006-12-19    13131.900043  \n",
      "2006-12-20    20384.800011  \n"
     ]
    }
   ],
   "source": [
    "# resample minute data to total for each day\n",
    "from pandas import read_csv\n",
    "# load the new file\n",
    "dataset = read_csv('~/DATA/household_power_consumption_sub_4.csv', header=0, infer_datetime_format=True, parse_dates=['datetime'], index_col=['datetime'])\n",
    "# resample data to daily\n",
    "daily_groups = dataset.resample('D')\n",
    "daily_data = daily_groups.sum()\n",
    "# summarize\n",
    "print(daily_data.shape)\n",
    "print(daily_data.head())\n",
    "# save\n",
    "#daily_data.to_csv('household_power_consumption_days.csv')"
   ]
  },
  {
   "cell_type": "code",
   "execution_count": 12,
   "metadata": {},
   "outputs": [],
   "source": [
    "\n",
    "# evaluate one or more weekly forecasts against expected values\n",
    "def evaluate_forecasts(actual, predicted):\n",
    "    scores = list()\n",
    "    # calculate an RMSE score for each day\n",
    "    for i in range(actual.shape[1]):\n",
    "       # calculate mse\n",
    "       mse = mean_squared_error(actual[:, i], predicted[:, i])\n",
    "       # calculate rmse\n",
    "       rmse = sqrt(mse)\n",
    "       # store\n",
    "       scores.append(rmse)\n",
    "       # calculate overall RMSE\n",
    "    s = 0\n",
    "    for row in range(actual.shape[0]):\n",
    "       for col in range(actual.shape[1]):\n",
    "           s += (actual[row, col] - predicted[row, col])**2\n",
    "    score = sqrt(s / (actual.shape[0] * actual.shape[1]))\n",
    "    return score, scores"
   ]
  },
  {
   "cell_type": "code",
   "execution_count": 13,
   "metadata": {},
   "outputs": [
    {
     "name": "stdout",
     "output_type": "stream",
     "text": [
      "(159, 7, 8)\n",
      "3390.46 1309.2679999999998\n",
      "(46, 7, 8)\n",
      "2083.4539999999984 2197.006000000004\n"
     ]
    }
   ],
   "source": [
    "# split into standard weeks\n",
    "from numpy import split\n",
    "from numpy import array\n",
    "from pandas import read_csv\n",
    "\n",
    "# split a univariate dataset into train/test sets\n",
    "def split_dataset(data):\n",
    "    # split into standard weeks\n",
    "    train, test = data[1:-328], data[-328:-6]\n",
    "    # restructure into windows of weekly data\n",
    "    train = array(split(train, len(train)/7))\n",
    "    test = array(split(test, len(test)/7))\n",
    "    return train, test\n",
    "\n",
    "# load the new file\n",
    "dataset = read_csv('~/DATA/household_power_consumption_days.csv', header=0, infer_datetime_format=True, parse_dates=['datetime'], index_col=['datetime'])\n",
    "train, test = split_dataset(dataset.values)\n",
    "# validate train data\n",
    "print(train.shape)\n",
    "print(train[0, 0, 0], train[-1, -1, 0])\n",
    "# validate test\n",
    "print(test.shape)\n",
    "print(test[0, 0, 0], test[-1, -1, 0])"
   ]
  },
  {
   "cell_type": "code",
   "execution_count": 14,
   "metadata": {},
   "outputs": [
    {
     "data": {
      "text/plain": [
       "array([[[3.39046000e+03, 2.26006000e+02, 3.45725320e+05, ...,\n",
       "         4.18700000e+03, 1.33410000e+04, 3.69466667e+04],\n",
       "        [2.20382600e+03, 1.61792000e+02, 3.47373640e+05, ...,\n",
       "         2.62100000e+03, 1.40180000e+04, 1.90284333e+04],\n",
       "        [1.66619400e+03, 1.50942000e+02, 3.48479010e+05, ...,\n",
       "         7.60200000e+03, 6.19700000e+03, 1.31319000e+04],\n",
       "        ...,\n",
       "        [1.72328800e+03, 1.44434000e+02, 3.47096410e+05, ...,\n",
       "         2.69200000e+03, 1.04560000e+04, 1.38084667e+04],\n",
       "        [2.34133800e+03, 1.86906000e+02, 3.47305750e+05, ...,\n",
       "         3.50000000e+02, 1.11310000e+04, 2.43903000e+04],\n",
       "        [4.77338600e+03, 2.21470000e+02, 3.45795950e+05, ...,\n",
       "         4.25000000e+02, 1.47260000e+04, 6.17364334e+04]],\n",
       "\n",
       "       [[2.55001200e+03, 1.49900000e+02, 3.48029910e+05, ...,\n",
       "         5.08200000e+03, 6.89100000e+03, 2.88242000e+04],\n",
       "        [2.74312000e+03, 2.40280000e+02, 3.50495900e+05, ...,\n",
       "         1.96200000e+03, 5.79500000e+03, 3.13416666e+04],\n",
       "        [3.93411000e+03, 1.65102000e+02, 3.47940630e+05, ...,\n",
       "         2.53300000e+03, 1.49790000e+04, 4.69705001e+04],\n",
       "        ...,\n",
       "        [2.07263800e+03, 2.08876000e+02, 3.50306400e+05, ...,\n",
       "         4.41900000e+03, 9.17600000e+03, 1.87419666e+04],\n",
       "        [3.17439200e+03, 1.96394000e+02, 3.46854680e+05, ...,\n",
       "         5.16200000e+03, 1.13290000e+04, 3.51635333e+04],\n",
       "        [2.79610800e+03, 3.12142000e+02, 3.46377150e+05, ...,\n",
       "         7.89300000e+03, 1.25160000e+04, 2.31208000e+04]],\n",
       "\n",
       "       [[3.49419600e+03, 1.50852000e+02, 3.45451070e+05, ...,\n",
       "         3.47000000e+02, 6.50200000e+03, 5.13876000e+04],\n",
       "        [2.74900400e+03, 1.48166000e+02, 3.45785730e+05, ...,\n",
       "         3.52000000e+02, 5.88000000e+03, 3.95847333e+04],\n",
       "        [1.26923600e+03, 1.90342000e+02, 3.48399040e+05, ...,\n",
       "         3.48000000e+02, 6.56200000e+03, 1.42439333e+04],\n",
       "        ...,\n",
       "        [3.25941200e+03, 2.02302000e+02, 3.45240430e+05, ...,\n",
       "         7.59700000e+03, 1.08960000e+04, 3.47795333e+04],\n",
       "        [2.71336400e+03, 1.73154000e+02, 3.46313900e+05, ...,\n",
       "         3.79000000e+02, 7.60200000e+03, 3.57587334e+04],\n",
       "        [1.50837800e+03, 1.92188000e+02, 3.45129200e+05, ...,\n",
       "         4.02000000e+02, 5.67800000e+03, 1.77236333e+04]],\n",
       "\n",
       "       ...,\n",
       "\n",
       "       [[2.13881400e+03, 2.22190000e+02, 3.52076540e+05, ...,\n",
       "         4.17000000e+02, 1.31780000e+04, 1.80679000e+04],\n",
       "        [1.79486200e+03, 1.51982000e+02, 3.54454290e+05, ...,\n",
       "         2.28000000e+03, 1.07420000e+04, 1.58023667e+04],\n",
       "        [1.94011600e+03, 1.62344000e+02, 3.54302180e+05, ...,\n",
       "         3.92000000e+02, 1.40840000e+04, 1.67482667e+04],\n",
       "        ...,\n",
       "        [1.71718200e+03, 1.48970000e+02, 3.55527550e+05, ...,\n",
       "         3.08000000e+02, 1.43950000e+04, 1.39167000e+04],\n",
       "        [1.74470600e+03, 1.60418000e+02, 3.55096590e+05, ...,\n",
       "         3.04000000e+02, 1.14660000e+04, 1.61134333e+04],\n",
       "        [2.20433400e+03, 1.37608000e+02, 3.54145740e+05, ...,\n",
       "         2.66200000e+03, 1.36810000e+04, 1.92309000e+04]],\n",
       "\n",
       "       [[1.14416600e+03, 1.22100000e+02, 3.56306410e+05, ...,\n",
       "         3.13000000e+02, 7.79500000e+03, 9.72443338e+03],\n",
       "        [2.03496600e+03, 1.71948000e+02, 3.54829270e+05, ...,\n",
       "         2.82000000e+02, 1.14730000e+04, 1.88681000e+04],\n",
       "        [1.88802200e+03, 1.53362000e+02, 3.53863350e+05, ...,\n",
       "         2.85000000e+02, 1.58290000e+04, 1.53530334e+04],\n",
       "        ...,\n",
       "        [2.90589400e+03, 2.03660000e+02, 3.54002570e+05, ...,\n",
       "         5.57500000e+03, 1.51980000e+04, 2.24745666e+04],\n",
       "        [2.12764800e+03, 1.92384000e+02, 3.50767150e+05, ...,\n",
       "         3.89500000e+03, 1.42880000e+04, 1.39067999e+04],\n",
       "        [2.18361800e+03, 1.60884000e+02, 3.49150630e+05, ...,\n",
       "         4.29400000e+03, 1.60470000e+04, 1.48666333e+04]],\n",
       "\n",
       "       [[2.19545200e+03, 2.07164000e+02, 3.49439100e+05, ...,\n",
       "         3.18000000e+02, 1.24500000e+04, 1.96048666e+04],\n",
       "        [2.09409800e+03, 1.81668000e+02, 3.51039760e+05, ...,\n",
       "         2.06300000e+03, 1.49340000e+04, 1.57296333e+04],\n",
       "        [2.04796800e+03, 2.42050000e+02, 3.50183540e+05, ...,\n",
       "         3.46000000e+02, 1.02050000e+04, 2.23218000e+04],\n",
       "        ...,\n",
       "        [2.21189200e+03, 1.86612000e+02, 3.46980700e+05, ...,\n",
       "         3.87000000e+02, 1.94090000e+04, 1.70688667e+04],\n",
       "        [1.22425200e+03, 1.65336000e+02, 3.49294640e+05, ...,\n",
       "         3.27000000e+02, 3.55800000e+03, 1.42152000e+04],\n",
       "        [1.30926800e+03, 1.99546000e+02, 3.52332840e+05, ...,\n",
       "         2.98000000e+02, 6.42500000e+03, 1.42971334e+04]]])"
      ]
     },
     "execution_count": 14,
     "metadata": {},
     "output_type": "execute_result"
    }
   ],
   "source": [
    "train"
   ]
  },
  {
   "cell_type": "code",
   "execution_count": 15,
   "metadata": {},
   "outputs": [
    {
     "data": {
      "text/plain": [
       "array([1.30926800e+03, 1.99546000e+02, 3.52332840e+05, 5.48980000e+03,\n",
       "       8.01000000e+02, 2.98000000e+02, 6.42500000e+03, 1.42971334e+04])"
      ]
     },
     "execution_count": 15,
     "metadata": {},
     "output_type": "execute_result"
    }
   ],
   "source": [
    "train[-1,-1]"
   ]
  },
  {
   "attachments": {
    "image.png": {
     "image/png": "[encoded data removed]"
    }
   },
   "cell_type": "markdown",
   "metadata": {},
   "source": [
    "# Walk-forward Validation\n",
    "\n",
    "[link](https://machinelearningmastery.com/backtest-machine-learning-models-time-series-forecasting/)\n",
    "\n",
    "\n",
    "![image.png](attachment:image.png)"
   ]
  },
  {
   "cell_type": "code",
   "execution_count": 17,
   "metadata": {},
   "outputs": [],
   "source": [
    "# evaluate a single model\n",
    "def evaluate_model(train, test, n_input):\n",
    "    # fit model\n",
    "    model = build_model(train, n_input)\n",
    "    # history is a list of weekly data\n",
    "    history = [x for x in train]\n",
    "    # walk-forward validation over each week\n",
    "    predictions = list()\n",
    "    for i in range(len(test)):\n",
    "        # predict the week\n",
    "        yhat_sequence = forecast(model, history, n_input)\n",
    "        # store the predictions\n",
    "        predictions.append(yhat_sequence)\n",
    "        # get real observation and add to history for predicting the next week\n",
    "        history.append(test[i, :])\n",
    "    # evaluate predictions days for each week\n",
    "    predictions = array(predictions)\n",
    "    score, scores = evaluate_forecasts(test[:, :, 0], predictions)\n",
    "    return score, scores"
   ]
  },
  {
   "cell_type": "code",
   "execution_count": 18,
   "metadata": {},
   "outputs": [],
   "source": [
    "# summarize scores\n",
    "def summarize_scores(name, score, scores):\n",
    "    s_scores = ', '.join(['%.1f' % s for s in scores])\n",
    "    print('%s: [%.3f] %s' % (name, score, s_scores))"
   ]
  },
  {
   "cell_type": "code",
   "execution_count": 19,
   "metadata": {},
   "outputs": [],
   "source": [
    "# convert history into inputs and outputs\n",
    "def to_supervised(train, n_input, n_out=7):\n",
    "    #flatten data\n",
    "    data = train.reshape((train.shape[0]*train.shape[1], train.shape[2]))\n",
    "    X, y = list(), list()\n",
    "    in_start = 0\n",
    "     # step over the entire history one time step at a time\n",
    "    for _ in range(len(data)):\n",
    "        # define the end of the input sequence\n",
    "        in_end = in_start + n_input\n",
    "        out_end = in_end + n_out\n",
    "        # ensure we have enough data for this instance\n",
    "        if out_end < len(data):\n",
    "            x_input = data[in_start:in_end, 0]\n",
    "            x_input = x_input.reshape((len(x_input), 1))\n",
    "            X.append(x_input)\n",
    "            y.append(data[in_end:out_end, 0])\n",
    "        # move along one time step\n",
    "        in_start += 1\n",
    "    return array(X), array(y)"
   ]
  },
  {
   "cell_type": "markdown",
   "metadata": {},
   "source": [
    "# Univeriate Modeling"
   ]
  },
  {
   "cell_type": "code",
   "execution_count": 20,
   "metadata": {},
   "outputs": [],
   "source": [
    "# train the model\n",
    "def build_model(train, n_input):\n",
    "    # prepare data\n",
    "    train_x, train_y = to_supervised(train, n_input)\n",
    "    # define parameters\n",
    "    verbose, epochs, batch_size = 0, 20, 4\n",
    "    n_timesteps, n_features, n_outputs = train_x.shape[1], train_x.shape[2], train_y.shape[1]\n",
    "    # define model\n",
    "    model = Sequential()\n",
    "    model.add(Conv1D(filters=16, kernel_size=3, activation='relu', input_shape=(n_timesteps,n_features)))\n",
    "    model.add(MaxPooling1D(pool_size=2))\n",
    "    model.add(Flatten())\n",
    "    model.add(Dense(10, activation='relu'))\n",
    "    model.add(Dense(n_outputs))\n",
    "    model.compile(loss='mse', optimizer='adam')\n",
    "    # fit network\n",
    "    model.fit(train_x, train_y, epochs=epochs, batch_size=batch_size, verbose=verbose)\n",
    "    return model"
   ]
  },
  {
   "cell_type": "code",
   "execution_count": 21,
   "metadata": {},
   "outputs": [],
   "source": [
    "# make a forecast\n",
    "def forecast(model, history, n_input):\n",
    "    # flatten data\n",
    "    data = array(history)\n",
    "    data = data.reshape((data.shape[0]*data.shape[1], data.shape[2]))\n",
    "    # retrieve last observations for input data\n",
    "    input_x = data[-n_input:, 0]\n",
    "    # reshape into [1, n_input, 1]\n",
    "    input_x = input_x.reshape((1, len(input_x), 1))\n",
    "    # forecast the next week\n",
    "    yhat = model.predict(input_x, verbose=0)\n",
    "    # we only want the vector forecast\n",
    "    yhat = yhat[0]\n",
    "    return yhat"
   ]
  },
  {
   "cell_type": "code",
   "execution_count": 23,
   "metadata": {},
   "outputs": [
    {
     "name": "stdout",
     "output_type": "stream",
     "text": [
      "cnn: [405.474] 420.4, 404.4, 341.8, 384.9, 411.0, 321.0, 523.2\n"
     ]
    },
    {
     "data": {
      "image/png": "[encoded data removed]",
      "text/plain": [
       "<Figure size 432x288 with 1 Axes>"
      ]
     },
     "metadata": {},
     "output_type": "display_data"
    }
   ],
   "source": [
    "# load the new file\n",
    "dataset = read_csv('~/DATA/household_power_consumption_days.csv', header=0, infer_datetime_format=True, parse_dates=['datetime'], index_col=['datetime'])\n",
    "# split into train and test\n",
    "train, test = split_dataset(dataset.values)\n",
    "# evaluate model and get scores\n",
    "n_input = 7\n",
    "score, scores = evaluate_model(train, test, n_input)\n",
    "# summarize scores\n",
    "summarize_scores('cnn', score, scores)\n",
    "# plot scores\n",
    "days = ['sun', 'mon', 'tue', 'wed', 'thr', 'fri', 'sat']\n",
    "pyplot.plot(days, scores, marker='o', label='cnn')\n",
    "pyplot.show()"
   ]
  },
  {
   "cell_type": "markdown",
   "metadata": {},
   "source": [
    "# Mutlivariate Modeling \n",
    "\n",
    "##### Producing Multichannel CNN\n",
    "\n",
    "**You need the model with more layers**\n",
    "\n"
   ]
  },
  {
   "cell_type": "code",
   "execution_count": null,
   "metadata": {},
   "outputs": [],
   "source": [
    "# train the model\n",
    "def build_model(train, n_input):\n",
    " # prepare data\n",
    " train_x, train_y = to_supervised(train, n_input)\n",
    " # define parameters\n",
    " verbose, epochs, batch_size = 0, 70, 16\n",
    " n_timesteps, n_features, n_outputs = train_x.shape[1], train_x.shape[2], train_y.shape[1]\n",
    " # define model\n",
    " model = Sequential()\n",
    " model.add(Conv1D(filters=32, kernel_size=3, activation='relu', input_shape=(n_timesteps,n_features)))\n",
    " model.add(Conv1D(filters=32, kernel_size=3, activation='relu'))\n",
    " model.add(MaxPooling1D(pool_size=2))\n",
    " model.add(Conv1D(filters=16, kernel_size=3, activation='relu'))\n",
    " model.add(MaxPooling1D(pool_size=2))\n",
    " model.add(Flatten())\n",
    " model.add(Dense(100, activation='relu'))\n",
    " model.add(Dense(n_outputs))\n",
    " model.compile(loss='mse', optimizer='adam')\n",
    " # fit network\n",
    " model.fit(train_x, train_y, epochs=epochs, batch_size=batch_size, verbose=verbose)\n",
    " return model"
   ]
  },
  {
   "cell_type": "markdown",
   "metadata": {},
   "source": [
    "# Mutlihead Modeling \n",
    "\n",
    "##### Producing Multichannel CNN by modeling every feature then aggragating over features\n",
    "\n",
    "**You need the model with more layers**\n",
    "\n"
   ]
  },
  {
   "cell_type": "code",
   "execution_count": null,
   "metadata": {},
   "outputs": [],
   "source": [
    "\n",
    "# train the model\n",
    "def build_model(train, n_input):\n",
    "    # prepare data\n",
    "    train_x, train_y = to_supervised(train, n_input)\n",
    "    # define parameters\n",
    "    verbose, epochs, batch_size = 0, 25, 16\n",
    "    n_timesteps, n_features, n_outputs = train_x.shape[1], train_x.shape[2], train_y.shape[1]\n",
    "    # create a channel for each variable\n",
    "    in_layers, out_layers = list(), list()\n",
    "    for i in range(n_features):\n",
    "        inputs = Input(shape=(n_timesteps,1))\n",
    "        conv1 = Conv1D(filters=32, kernel_size=3, activation='relu')(inputs)\n",
    "        conv2 = Conv1D(filters=32, kernel_size=3, activation='relu')(conv1)\n",
    "        pool1 = MaxPooling1D(pool_size=2)(conv2)\n",
    "        flat = Flatten()(pool1)\n",
    "        # store layers\n",
    "        in_layers.append(inputs)\n",
    "        out_layers.append(flat)\n",
    "    # merge heads\n",
    "    merged = concatenate(out_layers)\n",
    "    # interpretation\n",
    "    dense1 = Dense(200, activation='relu')(merged)\n",
    "    dense2 = Dense(100, activation='relu')(dense1)\n",
    "    outputs = Dense(n_outputs)(dense2)\n",
    "    model = Model(inputs=in_layers, outputs=outputs)\n",
    "    # compile model\n",
    "    model.compile(loss='mse', optimizer='adam')\n",
    "    # plot the model\n",
    "    plot_model(model, show_shapes=True, to_file='multiheaded_cnn.png')\n",
    "    # fit network\n",
    "    input_data = [train_x[:,:,i].reshape((train_x.shape[0],n_timesteps,1)) for i in range(n_features)]\n",
    "    model.fit(input_data, train_y, epochs=epochs, batch_size=batch_size, verbose=verbose)\n",
    "    return model"
   ]
  }
 ],
 "metadata": {
  "kernelspec": {
   "display_name": "Python 3",
   "language": "python",
   "name": "python3"
  },
  "language_info": {
   "codemirror_mode": {
    "name": "ipython",
    "version": 3
   },
   "file_extension": ".py",
   "mimetype": "text/x-python",
   "name": "python",
   "nbconvert_exporter": "python",
   "pygments_lexer": "ipython3",
   "version": "3.5.5"
  }
 },
 "nbformat": 4,
 "nbformat_minor": 2
}
